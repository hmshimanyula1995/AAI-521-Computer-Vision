{
  "nbformat": 4,
  "nbformat_minor": 0,
  "metadata": {
    "colab": {
      "provenance": [],
      "gpuType": "T4"
    },
    "kernelspec": {
      "name": "python3",
      "display_name": "Python 3"
    },
    "language_info": {
      "name": "python"
    },
    "accelerator": "GPU"
  },
  "cells": [
    {
      "cell_type": "code",
      "execution_count": 1,
      "metadata": {
        "colab": {
          "base_uri": "https://localhost:8080/"
        },
        "id": "r-GrWCh8l3Zl",
        "outputId": "a926c9b2-290e-4ed5-c321-b6bee86a32bf"
      },
      "outputs": [
        {
          "output_type": "stream",
          "name": "stdout",
          "text": [
            "Drive already mounted at /content/drive; to attempt to forcibly remount, call drive.mount(\"/content/drive\", force_remount=True).\n"
          ]
        }
      ],
      "source": [
        "import os\n",
        "import numpy as np\n",
        "from PIL import Image, ImageOps\n",
        "from sklearn.model_selection import train_test_split\n",
        "import matplotlib.pyplot as plt\n",
        "from os import listdir\n",
        "from os.path import isfile, join\n",
        "import cv2\n",
        "from tqdm import tqdm\n",
        "import torch\n",
        "from torch import Tensor\n",
        "import torchvision.models as models\n",
        "from torch.utils.data import Dataset, DataLoader\n",
        "import torch.nn as nn\n",
        "\n",
        "try:\n",
        "    from google.colab import drive\n",
        "    drive.mount(\"/content/drive\")\n",
        "    colab = True\n",
        "except:\n",
        "    colab = False"
      ]
    },
    {
      "cell_type": "code",
      "source": [
        "if(colab):\n",
        "    images_path = '/content/drive/MyDrive/MADS/images'\n",
        "    masks_path = '/content/drive/MyDrive/MADS/masks'\n",
        "    collages_path = '/content/drive/MyDrive/MADS/collages'\n",
        "else:\n",
        "    images_path = 'segmentation_full_body_mads_dataset_1192_img/segmentation_full_body_mads_dataset_1192_img/images'\n",
        "    masks_path = 'segmentation_full_body_mads_dataset_1192_img/segmentation_full_body_mads_dataset_1192_img/masks'\n",
        "    collages_path = 'segmentation_full_body_mads_dataset_1192_img/segmentation_full_body_mads_dataset_1192_img/collages'"
      ],
      "metadata": {
        "id": "l2bpeoMGl7Lq"
      },
      "execution_count": 2,
      "outputs": []
    },
    {
      "cell_type": "code",
      "source": [
        "image_names = [f for f in listdir(images_path) if isfile(join(images_path, f))]\n",
        "mask_names =  [f for f in listdir(masks_path) if isfile(join(masks_path, f))]"
      ],
      "metadata": {
        "id": "Si5XLZO6rSbD"
      },
      "execution_count": 3,
      "outputs": []
    },
    {
      "cell_type": "code",
      "source": [
        "mask = cv2.imread(masks_path + '/' + mask_names[1])"
      ],
      "metadata": {
        "id": "iM5s5AOArTRX"
      },
      "execution_count": 4,
      "outputs": []
    },
    {
      "cell_type": "code",
      "source": [
        "if(not image_names == mask_names):\n",
        "    print(\"Ensure there is no curroption is the data\")"
      ],
      "metadata": {
        "colab": {
          "base_uri": "https://localhost:8080/"
        },
        "id": "9L2TOzserVnS",
        "outputId": "9d283be4-f969-453e-8e43-5b2e11359ad0"
      },
      "execution_count": 5,
      "outputs": [
        {
          "output_type": "stream",
          "name": "stdout",
          "text": [
            "Ensure there is no curroption is the data\n"
          ]
        }
      ]
    },
    {
      "cell_type": "code",
      "source": [
        "mask = cv2.imread(masks_path + '/' + 'Taichi_S2_C1_00315.png')"
      ],
      "metadata": {
        "id": "K7-iD754zx8u"
      },
      "execution_count": 6,
      "outputs": []
    },
    {
      "cell_type": "code",
      "source": [
        "mask.shape"
      ],
      "metadata": {
        "colab": {
          "base_uri": "https://localhost:8080/"
        },
        "id": "QbKfz6obzy0G",
        "outputId": "1beaeb3e-b884-41f5-8a15-7b6433e6344c"
      },
      "execution_count": 7,
      "outputs": [
        {
          "output_type": "execute_result",
          "data": {
            "text/plain": [
              "(384, 512, 3)"
            ]
          },
          "metadata": {},
          "execution_count": 7
        }
      ]
    },
    {
      "cell_type": "code",
      "source": [
        "max_x = 0\n",
        "min_x = mask.shape[0]\n",
        "max_y = 0\n",
        "min_y = mask.shape[1]\n",
        "for row in range(len(mask)):\n",
        "        for column in range(mask.shape[1]):\n",
        "                for channel in range(1):\n",
        "                     if(mask[row][column][channel]) == 255:\n",
        "                        if(min_y > row):\n",
        "                            min_y = row\n",
        "                        if(max_y < row):\n",
        "                            max_y = row\n",
        "                        if(min_x > column):\n",
        "                            min_x = column\n",
        "                        if(max_x < column):\n",
        "                            max_x = column"
      ],
      "metadata": {
        "id": "1OeNSHjrz1cj"
      },
      "execution_count": 8,
      "outputs": []
    },
    {
      "cell_type": "code",
      "source": [
        "plt.imshow(mask)\n"
      ],
      "metadata": {
        "colab": {
          "base_uri": "https://localhost:8080/",
          "height": 453
        },
        "id": "xvn3uRfez7Kr",
        "outputId": "248b0c68-7bad-4dd3-9326-76e514bdd60f"
      },
      "execution_count": 9,
      "outputs": [
        {
          "output_type": "execute_result",
          "data": {
            "text/plain": [
              "<matplotlib.image.AxesImage at 0x79c09cfdc430>"
            ]
          },
          "metadata": {},
          "execution_count": 9
        },
        {
          "output_type": "display_data",
          "data": {
            "text/plain": [
              "<Figure size 640x480 with 1 Axes>"
            ],
            "image/png": "[encoded data removed]"
          },
          "metadata": {}
        }
      ]
    },
    {
      "cell_type": "code",
      "source": [
        "color = (255, 0, 0)\n",
        "thickness = 1\n",
        "crop_box = cv2.rectangle(mask, (min_x, min_y), (max_x, max_y), color, thickness)"
      ],
      "metadata": {
        "id": "0gFLigDdz8Hu"
      },
      "execution_count": 10,
      "outputs": []
    },
    {
      "cell_type": "code",
      "source": [
        "plt.imshow(crop_box)"
      ],
      "metadata": {
        "colab": {
          "base_uri": "https://localhost:8080/",
          "height": 453
        },
        "id": "EmkGc_6g0A_i",
        "outputId": "80b33193-8059-4a07-fc39-e5aadf709e00"
      },
      "execution_count": 11,
      "outputs": [
        {
          "output_type": "execute_result",
          "data": {
            "text/plain": [
              "<matplotlib.image.AxesImage at 0x79c09cee6350>"
            ]
          },
          "metadata": {},
          "execution_count": 11
        },
        {
          "output_type": "display_data",
          "data": {
            "text/plain": [
              "<Figure size 640x480 with 1 Axes>"
            ],
            "image/png": "[encoded data removed]"
          },
          "metadata": {}
        }
      ]
    },
    {
      "cell_type": "code",
      "source": [
        "import scipy\n",
        "x_border_max = mask.shape[1]\n",
        "y_border_max = mask.shape[0]\n",
        "\n",
        "global_max_x = 0\n",
        "global_min_x = x_border_max\n",
        "global_max_y = 0\n",
        "global_min_y = y_border_max\n",
        "\n",
        "for mask_name in tqdm(mask_names):\n",
        "    mask = cv2.imread(masks_path + '/' + mask_name)\n",
        "    for row in range(len(mask)):\n",
        "            for column in range(mask.shape[1]):\n",
        "                    for channel in range(3):\n",
        "                         if(mask[row][column][channel] == 255):\n",
        "                            if(global_min_y > row):\n",
        "                                global_min_y = row\n",
        "                                global_min_y_image = mask_name\n",
        "                            if(global_max_y < row):\n",
        "                                global_max_y = row\n",
        "                                global_max_y_image = mask_name\n",
        "                            if(global_min_x > column):\n",
        "                                global_min_x = column\n",
        "                                global_min_x_image = mask_name\n",
        "                            if(global_max_x < column):\n",
        "                                global_max_x = column\n",
        "                                global_max_x_image = mask_name"
      ],
      "metadata": {
        "colab": {
          "base_uri": "https://localhost:8080/",
          "height": 274
        },
        "id": "UAYtglay0PV8",
        "outputId": "17f17f8c-247e-4b6c-9717-99c1cb381956"
      },
      "execution_count": 12,
      "outputs": [
        {
          "output_type": "stream",
          "name": "stderr",
          "text": [
            "  0%|          | 2/1193 [00:06<1:08:14,  3.44s/it]\n"
          ]
        },
        {
          "output_type": "error",
          "ename": "KeyboardInterrupt",
          "evalue": "ignored",
          "traceback": [
            "\u001b[0;31m---------------------------------------------------------------------------\u001b[0m",
            "\u001b[0;31mKeyboardInterrupt\u001b[0m                         Traceback (most recent call last)",
            "\u001b[0;32m<ipython-input-12-d5e13190bb7c>\u001b[0m in \u001b[0;36m<cell line: 10>\u001b[0;34m()\u001b[0m\n\u001b[1;32m     13\u001b[0m             \u001b[0;32mfor\u001b[0m \u001b[0mcolumn\u001b[0m \u001b[0;32min\u001b[0m \u001b[0mrange\u001b[0m\u001b[0;34m(\u001b[0m\u001b[0mmask\u001b[0m\u001b[0;34m.\u001b[0m\u001b[0mshape\u001b[0m\u001b[0;34m[\u001b[0m\u001b[0;36m1\u001b[0m\u001b[0;34m]\u001b[0m\u001b[0;34m)\u001b[0m\u001b[0;34m:\u001b[0m\u001b[0;34m\u001b[0m\u001b[0;34m\u001b[0m\u001b[0m\n\u001b[1;32m     14\u001b[0m                     \u001b[0;32mfor\u001b[0m \u001b[0mchannel\u001b[0m \u001b[0;32min\u001b[0m \u001b[0mrange\u001b[0m\u001b[0;34m(\u001b[0m\u001b[0;36m3\u001b[0m\u001b[0;34m)\u001b[0m\u001b[0;34m:\u001b[0m\u001b[0;34m\u001b[0m\u001b[0;34m\u001b[0m\u001b[0m\n\u001b[0;32m---> 15\u001b[0;31m                          \u001b[0;32mif\u001b[0m\u001b[0;34m(\u001b[0m\u001b[0mmask\u001b[0m\u001b[0;34m[\u001b[0m\u001b[0mrow\u001b[0m\u001b[0;34m]\u001b[0m\u001b[0;34m[\u001b[0m\u001b[0mcolumn\u001b[0m\u001b[0;34m]\u001b[0m\u001b[0;34m[\u001b[0m\u001b[0mchannel\u001b[0m\u001b[0;34m]\u001b[0m \u001b[0;34m==\u001b[0m \u001b[0;36m255\u001b[0m\u001b[0;34m)\u001b[0m\u001b[0;34m:\u001b[0m\u001b[0;34m\u001b[0m\u001b[0;34m\u001b[0m\u001b[0m\n\u001b[0m\u001b[1;32m     16\u001b[0m                             \u001b[0;32mif\u001b[0m\u001b[0;34m(\u001b[0m\u001b[0mglobal_min_y\u001b[0m \u001b[0;34m>\u001b[0m \u001b[0mrow\u001b[0m\u001b[0;34m)\u001b[0m\u001b[0;34m:\u001b[0m\u001b[0;34m\u001b[0m\u001b[0;34m\u001b[0m\u001b[0m\n\u001b[1;32m     17\u001b[0m                                 \u001b[0mglobal_min_y\u001b[0m \u001b[0;34m=\u001b[0m \u001b[0mrow\u001b[0m\u001b[0;34m\u001b[0m\u001b[0;34m\u001b[0m\u001b[0m\n",
            "\u001b[0;31mKeyboardInterrupt\u001b[0m: "
          ]
        }
      ]
    },
    {
      "cell_type": "code",
      "source": [
        "skip = True\n",
        "if(skip):\n",
        "  global_min_x = 28\n",
        "  global_min_y = 52\n",
        "  global_max_x = 473\n",
        "  global_max_y = 383"
      ],
      "metadata": {
        "id": "48nVf0q7tGrG"
      },
      "execution_count": 13,
      "outputs": []
    },
    {
      "cell_type": "code",
      "source": [
        "print(\"The Crop Dimesions are ({0},{1}),({2},{3})\".format(global_min_x, global_min_y, global_max_x, global_max_y))"
      ],
      "metadata": {
        "colab": {
          "base_uri": "https://localhost:8080/"
        },
        "id": "k1vMhpJS0moW",
        "outputId": "f90ad6ca-ce54-4ad3-bbcc-8235d0d91b6d"
      },
      "execution_count": 14,
      "outputs": [
        {
          "output_type": "stream",
          "name": "stdout",
          "text": [
            "The Crop Dimesions are (28,52),(473,383)\n"
          ]
        }
      ]
    },
    {
      "cell_type": "code",
      "source": [
        "mask = cv2.imread(masks_path + \"/\" + global_max_x_image)\n",
        "color = (255, 0, 0)\n",
        "thickness = 1\n",
        "crop_box = cv2.rectangle(mask, (global_min_x, global_min_y), (global_max_x, global_max_y), color, thickness)\n",
        "plt.imshow(crop_box)"
      ],
      "metadata": {
        "colab": {
          "base_uri": "https://localhost:8080/",
          "height": 453
        },
        "id": "COFrjtvu0ufy",
        "outputId": "8f29d494-0544-4b8e-9563-3d80879b6ce8"
      },
      "execution_count": 15,
      "outputs": [
        {
          "output_type": "execute_result",
          "data": {
            "text/plain": [
              "<matplotlib.image.AxesImage at 0x79c09ad96e00>"
            ]
          },
          "metadata": {},
          "execution_count": 15
        },
        {
          "output_type": "display_data",
          "data": {
            "text/plain": [
              "<Figure size 640x480 with 1 Axes>"
            ],
            "image/png": "[encoded data removed]"
          },
          "metadata": {}
        }
      ]
    },
    {
      "cell_type": "code",
      "source": [
        "mask = cv2.imread(masks_path + \"/\" + global_min_x_image)\n",
        "color = (255, 0, 0)\n",
        "thickness = 1\n",
        "crop_box = cv2.rectangle(mask, (global_min_x, global_min_y), (global_max_x, global_max_y), color, thickness)\n",
        "plt.imshow(crop_box)"
      ],
      "metadata": {
        "colab": {
          "base_uri": "https://localhost:8080/",
          "height": 453
        },
        "id": "s6hpdAkH0vn_",
        "outputId": "1c932eb4-f2e9-4217-c597-8e2ea1ba0445"
      },
      "execution_count": 16,
      "outputs": [
        {
          "output_type": "execute_result",
          "data": {
            "text/plain": [
              "<matplotlib.image.AxesImage at 0x79c09ac12410>"
            ]
          },
          "metadata": {},
          "execution_count": 16
        },
        {
          "output_type": "display_data",
          "data": {
            "text/plain": [
              "<Figure size 640x480 with 1 Axes>"
            ],
            "image/png": "[encoded data removed]"
          },
          "metadata": {}
        }
      ]
    },
    {
      "cell_type": "code",
      "source": [
        "mask = cv2.imread(masks_path + \"/\" + global_max_y_image)\n",
        "color = (255, 0, 0)\n",
        "thickness = 1\n",
        "crop_box = cv2.rectangle(mask, (global_min_x, global_min_y), (global_max_x, global_max_y), color, thickness)\n",
        "plt.imshow(crop_box)"
      ],
      "metadata": {
        "colab": {
          "base_uri": "https://localhost:8080/",
          "height": 453
        },
        "id": "Y035C8JK0zHb",
        "outputId": "1fdd35fe-3b20-4b68-e2a7-e4feb882a149"
      },
      "execution_count": 17,
      "outputs": [
        {
          "output_type": "execute_result",
          "data": {
            "text/plain": [
              "<matplotlib.image.AxesImage at 0x79c09aca6fb0>"
            ]
          },
          "metadata": {},
          "execution_count": 17
        },
        {
          "output_type": "display_data",
          "data": {
            "text/plain": [
              "<Figure size 640x480 with 1 Axes>"
            ],
            "image/png": "[encoded data removed]"
          },
          "metadata": {}
        }
      ]
    },
    {
      "cell_type": "code",
      "source": [
        "mask = cv2.imread(masks_path + \"/\" + global_min_y_image)\n",
        "color = (255, 0, 0)\n",
        "thickness = 1\n",
        "crop_box = cv2.rectangle(mask, (global_min_x, global_min_y), (global_max_x, global_max_y), color, thickness)\n",
        "plt.imshow(crop_box)"
      ],
      "metadata": {
        "colab": {
          "base_uri": "https://localhost:8080/",
          "height": 453
        },
        "id": "FeTWNoNJ002O",
        "outputId": "cc19ca3d-2c7c-41b4-813a-bea7cb5bf138"
      },
      "execution_count": 18,
      "outputs": [
        {
          "output_type": "execute_result",
          "data": {
            "text/plain": [
              "<matplotlib.image.AxesImage at 0x79c09ab229b0>"
            ]
          },
          "metadata": {},
          "execution_count": 18
        },
        {
          "output_type": "display_data",
          "data": {
            "text/plain": [
              "<Figure size 640x480 with 1 Axes>"
            ],
            "image/png": "[encoded data removed]"
          },
          "metadata": {}
        }
      ]
    },
    {
      "cell_type": "code",
      "source": [
        "class Dataset(Dataset):\n",
        "    def __init__(self, names):\n",
        "      self.names = names\n",
        "    def __len__(self):\n",
        "        return len(self.names)\n",
        "\n",
        "    def transform_image(self, image):\n",
        "        image = image[global_min_x - 15:global_max_x + 15, global_min_y - 15 : global_max_y + 15, :]\n",
        "        image = cv2.resize(image,(128,128))\n",
        "        image /= 255.0\n",
        "        image = torch.as_tensor(image, dtype=torch.float32)\n",
        "        image = torch.permute(image,(2,0,1))\n",
        "\n",
        "        return image\n",
        "    def transform_mask(self, mask):\n",
        "\n",
        "        mask = mask[global_min_x - 15:global_max_x + 15, global_min_y - 15 : global_max_y + 15]\n",
        "        mask = cv2.resize(mask,(128,128))\n",
        "        mask[mask>0] = 1\n",
        "        return mask\n",
        "\n",
        "    def __getitem__(self, index):\n",
        "        image = self.names[index]\n",
        "        image = cv2.imread(os.path.join(images_path,image), cv2.IMREAD_COLOR)\n",
        "        image = cv2.cvtColor(image, cv2.COLOR_BGR2RGB).astype(np.float32)\n",
        "        image = self.transform_image(image)\n",
        "\n",
        "        mask = self.names[index]\n",
        "        mask = cv2.imread(os.path.join(masks_path,mask),cv2.IMREAD_GRAYSCALE)\n",
        "        mask = self.transform_mask(mask)\n",
        "        mask = torch.as_tensor(mask, dtype=torch.long)\n",
        "        return image, mask"
      ],
      "metadata": {
        "id": "D5i8qn0ul8d6"
      },
      "execution_count": 19,
      "outputs": []
    },
    {
      "cell_type": "code",
      "source": [
        "X_train, X_val, _, _ = train_test_split(image_names, image_names, test_size=.2, random_state=42)"
      ],
      "metadata": {
        "id": "gwhQSII5mhX7"
      },
      "execution_count": 20,
      "outputs": []
    },
    {
      "cell_type": "code",
      "source": [
        "len(X_val)"
      ],
      "metadata": {
        "id": "uroJs9NnJVHi"
      },
      "execution_count": null,
      "outputs": []
    },
    {
      "cell_type": "code",
      "source": [
        "train_dataset = Dataset(X_train)\n",
        "train_data_loader = DataLoader(train_dataset, batch_size= 6,  shuffle=True, num_workers=2)\n",
        "val_dataset = Dataset(X_val)\n",
        "val_data_loader = DataLoader(val_dataset, batch_size= 3, shuffle=True, num_workers=1)"
      ],
      "metadata": {
        "id": "DS7hTRT3mqb_"
      },
      "execution_count": 21,
      "outputs": []
    },
    {
      "cell_type": "code",
      "source": [
        "train_dataset[0][0].shape"
      ],
      "metadata": {
        "colab": {
          "base_uri": "https://localhost:8080/"
        },
        "id": "BS9dVsYjthAX",
        "outputId": "579746c0-bd40-423a-b9f7-8c133a7f7fd5"
      },
      "execution_count": 22,
      "outputs": [
        {
          "output_type": "execute_result",
          "data": {
            "text/plain": [
              "torch.Size([3, 128, 128])"
            ]
          },
          "metadata": {},
          "execution_count": 22
        }
      ]
    },
    {
      "cell_type": "code",
      "source": [
        "train_dataset[0][1].shape"
      ],
      "metadata": {
        "colab": {
          "base_uri": "https://localhost:8080/"
        },
        "id": "gGetxXzJtjLB",
        "outputId": "13899ce1-5661-40ae-f4af-c561ecfaca68"
      },
      "execution_count": 23,
      "outputs": [
        {
          "output_type": "execute_result",
          "data": {
            "text/plain": [
              "torch.Size([128, 128])"
            ]
          },
          "metadata": {},
          "execution_count": 23
        }
      ]
    },
    {
      "cell_type": "code",
      "source": [
        "len(val_data_loader)"
      ],
      "metadata": {
        "colab": {
          "base_uri": "https://localhost:8080/"
        },
        "id": "jt2nQVw8mxbm",
        "outputId": "b0c20013-4219-43d7-9eac-dbb886e02fa8"
      },
      "execution_count": 24,
      "outputs": [
        {
          "output_type": "execute_result",
          "data": {
            "text/plain": [
              "80"
            ]
          },
          "metadata": {},
          "execution_count": 24
        }
      ]
    },
    {
      "cell_type": "code",
      "source": [
        "def train(data_loader, epoch):\n",
        "    model.train()\n",
        "    correct_train = 0\n",
        "    log_interval = 50\n",
        "    t_loss = 0\n",
        "\n",
        "    for idx, (images, mask) in enumerate((data_loader)):\n",
        "        images = images.to(device).float()\n",
        "        mask = mask.to(device).long()\n",
        "\n",
        "        outputs = model(images)\n",
        "\n",
        "        loss = criterion(outputs, mask)\n",
        "        optimizer.zero_grad()\n",
        "        loss.backward()\n",
        "        t_loss += loss\n",
        "        optimizer.step()\n",
        "\n",
        "        if idx % log_interval == 0 and idx > 0:\n",
        "            print('Training | epoch {0} | {1}/{2} batches | loss {3}'.format(epoch, idx, len(data_loader),\n",
        "            t_loss/log_interval))\n",
        "            t_loss = 0\n",
        "            correct_train = 0\n",
        "\n",
        "def eval(data_loader, epoch):\n",
        "\n",
        "    correct_train = 0\n",
        "    log_interval = 40\n",
        "    t_loss = 0\n",
        "\n",
        "    for idx, (images, mask) in enumerate((data_loader)):\n",
        "        optimizer.zero_grad()\n",
        "        images = images.to(device).float()\n",
        "        mask = mask.to(device).long()\n",
        "\n",
        "        outputs = model(images)\n",
        "        del images\n",
        "        loss = criterion(outputs, mask)\n",
        "        del mask\n",
        "        t_loss += loss\n",
        "\n",
        "        if (idx + 1) % log_interval == 0 and idx > 0:\n",
        "            print('Validation | epoch {0} | {1}/{2} batches |  loss {3}'.format(epoch, idx, len(data_loader),\n",
        "            t_loss/log_interval))\n",
        "            t_loss = 0\n",
        "            correct_train = 0\n"
      ],
      "metadata": {
        "id": "GSwkI15tmzx2"
      },
      "execution_count": 36,
      "outputs": []
    },
    {
      "cell_type": "code",
      "source": [
        "device = torch.device('cuda')\n",
        "lr_rate = 2e-5\n",
        "\n",
        "model = torch.hub.load('milesial/Pytorch-UNet', 'unet_carvana', pretrained=True, scale=0.5)\n",
        "model = model.to(device)\n",
        "optimizer = torch.optim.AdamW(model.parameters(),lr=.0005)\n",
        "criterion = nn.CrossEntropyLoss()\n",
        "\n",
        "\n",
        "for epoch in range(0,10):\n",
        "  train(train_data_loader, epoch)\n",
        "  eval(val_data_loader, epoch)"
      ],
      "metadata": {
        "colab": {
          "base_uri": "https://localhost:8080/"
        },
        "id": "wYsV5un21Fee",
        "outputId": "7d75c694-1ff8-46f1-b5df-06b05be5bef6"
      },
      "execution_count": 37,
      "outputs": [
        {
          "output_type": "stream",
          "name": "stderr",
          "text": [
            "Using cache found in /root/.cache/torch/hub/milesial_Pytorch-UNet_master\n"
          ]
        },
        {
          "output_type": "stream",
          "name": "stdout",
          "text": [
            "Training | epoch 0 | 50/159 batches | loss 0.17392589151859283\n",
            "Training | epoch 0 | 100/159 batches | loss 0.05322422459721565\n",
            "Training | epoch 0 | 150/159 batches | loss 0.056185558438301086\n",
            "Validation | epoch 0 | 39/80 batches |  loss 0.07139723747968674\n",
            "Validation | epoch 0 | 79/80 batches |  loss 0.03728504106402397\n",
            "Training | epoch 1 | 50/159 batches | loss 0.030146973207592964\n",
            "Training | epoch 1 | 100/159 batches | loss 0.042042672634124756\n",
            "Training | epoch 1 | 150/159 batches | loss 0.04164360463619232\n",
            "Validation | epoch 1 | 39/80 batches |  loss 0.024893326684832573\n",
            "Validation | epoch 1 | 79/80 batches |  loss 0.06500467658042908\n",
            "Training | epoch 2 | 50/159 batches | loss 0.03835340961813927\n",
            "Training | epoch 2 | 100/159 batches | loss 0.037780456244945526\n",
            "Training | epoch 2 | 150/159 batches | loss 0.019130144268274307\n",
            "Validation | epoch 2 | 39/80 batches |  loss 0.06273452192544937\n",
            "Validation | epoch 2 | 79/80 batches |  loss 0.019241614267230034\n",
            "Training | epoch 3 | 50/159 batches | loss 0.017133137211203575\n",
            "Training | epoch 3 | 100/159 batches | loss 0.03663138672709465\n",
            "Training | epoch 3 | 150/159 batches | loss 0.03584776818752289\n",
            "Validation | epoch 3 | 39/80 batches |  loss 0.0185485128313303\n",
            "Validation | epoch 3 | 79/80 batches |  loss 0.06367586553096771\n",
            "Training | epoch 4 | 50/159 batches | loss 0.03551989048719406\n",
            "Training | epoch 4 | 100/159 batches | loss 0.03717934712767601\n",
            "Training | epoch 4 | 150/159 batches | loss 0.01633378304541111\n",
            "Validation | epoch 4 | 39/80 batches |  loss 0.0632309690117836\n",
            "Validation | epoch 4 | 79/80 batches |  loss 0.01602173037827015\n",
            "Training | epoch 5 | 50/159 batches | loss 0.037241943180561066\n",
            "Training | epoch 5 | 100/159 batches | loss 0.015991201624274254\n",
            "Training | epoch 5 | 150/159 batches | loss 0.03603194281458855\n",
            "Validation | epoch 5 | 39/80 batches |  loss 0.020754393190145493\n",
            "Validation | epoch 5 | 79/80 batches |  loss 0.0660509541630745\n",
            "Training | epoch 6 | 50/159 batches | loss 0.036470334976911545\n",
            "Training | epoch 6 | 100/159 batches | loss 0.03377129137516022\n",
            "Training | epoch 6 | 150/159 batches | loss 0.013890956528484821\n",
            "Validation | epoch 6 | 39/80 batches |  loss 0.06343230605125427\n",
            "Validation | epoch 6 | 79/80 batches |  loss 0.015296878293156624\n",
            "Training | epoch 7 | 50/159 batches | loss 0.01345441211014986\n",
            "Training | epoch 7 | 100/159 batches | loss 0.0340828113257885\n",
            "Training | epoch 7 | 150/159 batches | loss 0.032463524490594864\n",
            "Validation | epoch 7 | 39/80 batches |  loss 0.0163169726729393\n",
            "Validation | epoch 7 | 79/80 batches |  loss 0.06403201073408127\n",
            "Training | epoch 8 | 50/159 batches | loss 0.03257890045642853\n",
            "Training | epoch 8 | 100/159 batches | loss 0.03292020782828331\n",
            "Training | epoch 8 | 150/159 batches | loss 0.01387202087789774\n",
            "Validation | epoch 8 | 39/80 batches |  loss 0.06256460398435593\n",
            "Validation | epoch 8 | 79/80 batches |  loss 0.013989284634590149\n",
            "Training | epoch 9 | 50/159 batches | loss 0.012390367686748505\n",
            "Training | epoch 9 | 100/159 batches | loss 0.012498491443693638\n",
            "Training | epoch 9 | 150/159 batches | loss 0.052302632480859756\n",
            "Validation | epoch 9 | 39/80 batches |  loss 0.0694393441081047\n",
            "Validation | epoch 9 | 79/80 batches |  loss 0.021084222942590714\n"
          ]
        }
      ]
    },
    {
      "cell_type": "code",
      "source": [],
      "metadata": {
        "id": "S_6y5ezeIFQ-"
      },
      "execution_count": null,
      "outputs": []
    }
  ]
}