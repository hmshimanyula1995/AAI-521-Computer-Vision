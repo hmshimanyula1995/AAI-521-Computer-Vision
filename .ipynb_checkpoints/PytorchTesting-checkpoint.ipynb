{
 "cells": [
  {
   "cell_type": "code",
   "execution_count": 27,
   "id": "ab528846-e010-4f25-b914-b2cc817d7e50",
   "metadata": {},
   "outputs": [],
   "source": [
    "import os\n",
    "import numpy as np\n",
    "from PIL import Image, ImageOps\n",
    "from sklearn.model_selection import train_test_split\n",
    "import matplotlib.pyplot as plt\n",
    "from os import listdir\n",
    "from os.path import isfile, join\n",
    "import cv2\n",
    "from tqdm import tqdm\n",
    "\n",
    "try:\n",
    "    from google.colab import drive\n",
    "    drive.mount(\"/content/drive\")\n",
    "    colab = True\n",
    "except:\n",
    "    colab = False"
   ]
  },
  {
   "cell_type": "code",
   "execution_count": 4,
   "id": "c2b2bc65-7965-4e71-94f2-ef7c7af85dcb",
   "metadata": {},
   "outputs": [],
   "source": [
    "if(colab):\n",
    "    images_path = '/content/drive/MyDrive/MADS/images'\n",
    "    masks_path = '/content/drive/MyDrive/MADS/masks'\n",
    "    collages_path = '/content/drive/MyDrive/MADS/collages'\n",
    "else:\n",
    "    images_path = 'segmentation_full_body_mads_dataset_1192_img/segmentation_full_body_mads_dataset_1192_img/images'\n",
    "    masks_path = 'segmentation_full_body_mads_dataset_1192_img/segmentation_full_body_mads_dataset_1192_img/masks'\n",
    "    collages_path = 'segmentation_full_body_mads_dataset_1192_img/segmentation_full_body_mads_dataset_1192_img/collages'"
   ]
  },
  {
   "cell_type": "code",
   "execution_count": 9,
   "id": "1c26bd72-9ae3-468a-9c66-26027436baf0",
   "metadata": {},
   "outputs": [],
   "source": [
    "if(not os.path.isdir(images_path)):\n",
    "    print(\"Ensure Image Path Exists\")\n",
    "if(not os.path.isdir(masks_path)):\n",
    "    print(\"Ensure Mask Path Exists\")\n",
    "if(not os.path.isdir(collages_path)):\n",
    "    print(\"Ensure Collages Path Exists\")\n"
   ]
  },
  {
   "cell_type": "code",
   "execution_count": 23,
   "id": "95960fe5-252e-409c-9025-977d57dce4e2",
   "metadata": {},
   "outputs": [],
   "source": [
    "image_names = [f for f in listdir(images_path) if isfile(join(images_path, f))]\n",
    "mask_names =  [f for f in listdir(masks_path) if isfile(join(masks_path, f))]"
   ]
  },
  {
   "cell_type": "code",
   "execution_count": 25,
   "id": "892cf4c5-1329-4dc7-9be0-d1e416e3e823",
   "metadata": {},
   "outputs": [],
   "source": [
    "if(not image_names == mask_names):\n",
    "    print(\"Ensure there is no curroption is the data\")"
   ]
  },
  {
   "cell_type": "code",
   "execution_count": 40,
   "id": "050963ae-de46-434a-b0c9-5226af423526",
   "metadata": {},
   "outputs": [
    {
     "name": "stderr",
     "output_type": "stream",
     "text": [
      "100%|██████████| 1192/1192 [00:02<00:00, 567.47it/s]\n"
     ]
    },
    {
     "data": {
      "text/plain": [
       "'segmentation_full_body_mads_dataset_1192_img/segmentation_full_body_mads_dataset_1192_img/masksTaichi_S6_C2_00090.png'"
      ]
     },
     "execution_count": 40,
     "metadata": {},
     "output_type": "execute_result"
    }
   ],
   "source": [
    "for mask_name in tqdm(mask_names):\n",
    "    mask = cv2.imread(masks_path + '/' + mask_name)\n",
    "    "
   ]
  },
  {
   "cell_type": "code",
   "execution_count": 36,
   "id": "c744f67d-7869-43eb-863d-34fc10b954c0",
   "metadata": {},
   "outputs": [
    {
     "data": {
      "text/plain": [
       "False"
      ]
     },
     "execution_count": 36,
     "metadata": {},
     "output_type": "execute_result"
    }
   ],
   "source": [
    "isfile(masks_path + mask_name)"
   ]
  },
  {
   "cell_type": "code",
   "execution_count": 44,
   "id": "af637706-b1fc-4ed1-a2bf-19cd0fc81e60",
   "metadata": {},
   "outputs": [
    {
     "data": {
      "text/plain": [
       "384"
      ]
     },
     "execution_count": 44,
     "metadata": {},
     "output_type": "execute_result"
    }
   ],
   "source": [
    "\n",
    "for row in range(len(mask):\n",
    "        for column in range(len(row)):\n",
    "                 if(mask[row][column] == 1\n",
    "                 "
   ]
  },
  {
   "cell_type": "code",
   "execution_count": null,
   "id": "9ff6c1dc-93e1-4965-bc77-e180faefc6c6",
   "metadata": {},
   "outputs": [],
   "source": []
  }
 ],
 "metadata": {
  "kernelspec": {
   "display_name": "Python 3 (ipykernel)",
   "language": "python",
   "name": "python3"
  },
  "language_info": {
   "codemirror_mode": {
    "name": "ipython",
    "version": 3
   },
   "file_extension": ".py",
   "mimetype": "text/x-python",
   "name": "python",
   "nbconvert_exporter": "python",
   "pygments_lexer": "ipython3",
   "version": "3.9.17"
  }
 },
 "nbformat": 4,
 "nbformat_minor": 5
}
